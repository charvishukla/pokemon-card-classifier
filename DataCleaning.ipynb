{
 "cells": [
  {
   "cell_type": "code",
   "execution_count": 3,
   "id": "8de924e8-d2f4-43e3-9166-9bdbe900b210",
   "metadata": {},
   "outputs": [],
   "source": [
    "import os\n",
    "import shutil\n",
    "import pandas as pd\n",
    "\n",
    "from sklearn.model_selection import train_test_split"
   ]
  },
  {
   "cell_type": "code",
   "execution_count": 2,
   "id": "3a50921a-3af2-48f9-80ef-c08343cc9afc",
   "metadata": {},
   "outputs": [
    {
     "data": {
      "text/html": [
       "<div>\n",
       "<style scoped>\n",
       "    .dataframe tbody tr th:only-of-type {\n",
       "        vertical-align: middle;\n",
       "    }\n",
       "\n",
       "    .dataframe tbody tr th {\n",
       "        vertical-align: top;\n",
       "    }\n",
       "\n",
       "    .dataframe thead th {\n",
       "        text-align: right;\n",
       "    }\n",
       "</style>\n",
       "<table border=\"1\" class=\"dataframe\">\n",
       "  <thead>\n",
       "    <tr style=\"text-align: right;\">\n",
       "      <th></th>\n",
       "      <th>filename</th>\n",
       "      <th>label</th>\n",
       "    </tr>\n",
       "  </thead>\n",
       "  <tbody>\n",
       "  </tbody>\n",
       "</table>\n",
       "</div>"
      ],
      "text/plain": [
       "Empty DataFrame\n",
       "Columns: [filename, label]\n",
       "Index: []"
      ]
     },
     "execution_count": 2,
     "metadata": {},
     "output_type": "execute_result"
    }
   ],
   "source": [
    "image_folder = 'images'\n",
    "\n",
    "data = []\n",
    "\n",
    "for filename in os.listdir(image_folder):\n",
    "    if filename.endswith('.png'):  \n",
    "        label = filename.split('-')[0]\n",
    "        data.append([filename, label])\n",
    "\n",
    "dataset = pd.DataFrame(data, columns=['filename', 'label'])\n",
    "dataset"
   ]
  },
  {
   "cell_type": "code",
   "execution_count": 13,
   "id": "e794caa7-3d8f-4bc9-b7b0-f96c80004a48",
   "metadata": {},
   "outputs": [
    {
     "data": {
      "text/plain": [
       "0"
      ]
     },
     "execution_count": 13,
     "metadata": {},
     "output_type": "execute_result"
    }
   ],
   "source": [
    "label_counts = dataset['label'].value_counts()\n",
    "labels_to_keep = label_counts[label_counts >= 150].index\n",
    "dataset_tiny = dataset[dataset['label'].isin(labels_to_keep)]\n",
    "dataset_tiny['label'].nunique()"
   ]
  },
  {
   "cell_type": "code",
   "execution_count": 14,
   "id": "ff61a26e-fa9c-4c20-aeba-5e0f99f84288",
   "metadata": {},
   "outputs": [],
   "source": [
    "source_folder = 'images'\n",
    "destination_folder = 'images_dataset'"
   ]
  },
  {
   "cell_type": "code",
   "execution_count": 15,
   "id": "54de7e5e-0fac-4488-8295-473bfc5f8c39",
   "metadata": {},
   "outputs": [
    {
     "name": "stdout",
     "output_type": "stream",
     "text": [
      "Files have been organized by class.\n"
     ]
    }
   ],
   "source": [
    "os.makedirs(destination_folder, exist_ok=True)\n",
    "for filename in os.listdir(source_folder):\n",
    "    if filename.endswith('.png'):  # Only process .png files\n",
    "        class_name = filename.split('-')[0]\n",
    "        class_folder = os.path.join(destination_folder, class_name)\n",
    "        os.makedirs(class_folder, exist_ok=True)\n",
    "        \n",
    "        source_path = os.path.join(source_folder, filename)\n",
    "        destination_path = os.path.join(class_folder, filename)\n",
    "        shutil.move(source_path, destination_path)\n",
    "\n",
    "print(\"Files have been organized by class.\")"
   ]
  },
  {
   "cell_type": "code",
   "execution_count": 4,
   "id": "c36287ec-1a6f-4f84-a2be-22b95a99b6a5",
   "metadata": {},
   "outputs": [
    {
     "name": "stdout",
     "output_type": "stream",
     "text": [
      "Train and test sets have been created.\n"
     ]
    }
   ],
   "source": [
    "source_folder = 'images_dataset'\n",
    "train_folder = 'images_dataset_train'\n",
    "test_folder = 'images_dataset_test'\n",
    "\n",
    "os.makedirs(train_folder, exist_ok=True)\n",
    "os.makedirs(test_folder, exist_ok=True)\n",
    "\n",
    "test_size = 0.2  # 20% of the images will go to the test set\n",
    "\n",
    "# Loop through each class folder\n",
    "for class_name in os.listdir(source_folder):\n",
    "    class_folder = os.path.join(source_folder, class_name)\n",
    "    \n",
    "    if os.path.isdir(class_folder):  # Only process directories (classes)\n",
    "        # List all files in the class folder\n",
    "        images = [f for f in os.listdir(class_folder) if f.endswith('.png')]\n",
    "        \n",
    "        # Split images into train and test sets\n",
    "        train_images, test_images = train_test_split(images, test_size=test_size, random_state=42)\n",
    "        \n",
    "        # Create class subfolders in train and test directories\n",
    "        train_class_folder = os.path.join(train_folder, class_name)\n",
    "        test_class_folder = os.path.join(test_folder, class_name)\n",
    "        os.makedirs(train_class_folder, exist_ok=True)\n",
    "        os.makedirs(test_class_folder, exist_ok=True)\n",
    "        \n",
    "        # Move images to the respective train/test class folders\n",
    "        for image in train_images:\n",
    "            shutil.copy(os.path.join(class_folder, image), os.path.join(train_class_folder, image))\n",
    "        \n",
    "        for image in test_images:\n",
    "            shutil.copy(os.path.join(class_folder, image), os.path.join(test_class_folder, image))\n",
    "\n",
    "print(\"Train and test sets have been created.\")\n"
   ]
  },
  {
   "cell_type": "code",
   "execution_count": null,
   "id": "677f9388-7ae0-4f98-8d2c-80e57888431e",
   "metadata": {},
   "outputs": [],
   "source": []
  }
 ],
 "metadata": {
  "kernelspec": {
   "display_name": "Python 3.8 (my_env)",
   "language": "python",
   "name": "arclab"
  },
  "language_info": {
   "codemirror_mode": {
    "name": "ipython",
    "version": 3
   },
   "file_extension": ".py",
   "mimetype": "text/x-python",
   "name": "python",
   "nbconvert_exporter": "python",
   "pygments_lexer": "ipython3",
   "version": "3.8.0"
  }
 },
 "nbformat": 4,
 "nbformat_minor": 5
}
