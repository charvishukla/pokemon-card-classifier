{
 "cells": [
  {
   "cell_type": "markdown",
   "id": "c6cc6a17-79f3-41ee-9579-f36b17048130",
   "metadata": {},
   "source": [
    "# Imports"
   ]
  },
  {
   "cell_type": "code",
   "execution_count": 15,
   "id": "e874325a-9785-4fa7-8f7f-02faa214637b",
   "metadata": {},
   "outputs": [],
   "source": [
    "import numpy as np\n",
    "import torch\n",
    "import torch.nn as nn\n",
    "import torch.nn.functional as F\n",
    "import torch.optim as optim\n",
    "from torch.utils.data import DataLoader\n",
    "from torchvision import datasets\n",
    "from torchvision.transforms import ToTensor\n",
    "from torchvision import datasets, transforms\n",
    "\n",
    "import matplotlib.pyplot as plt\n",
    "from tqdm import tqdm\n",
    "\n",
    "import os\n",
    "import pandas as pd\n",
    "from sklearn.preprocessing import LabelEncoder\n",
    "\n",
    "pd.reset_option('display.max_rows')\n"
   ]
  },
  {
   "cell_type": "code",
   "execution_count": 16,
   "id": "676df57e-9565-497f-b7bc-559faeb9d176",
   "metadata": {},
   "outputs": [
    {
     "name": "stdout",
     "output_type": "stream",
     "text": [
      "Using cpu device\n"
     ]
    }
   ],
   "source": [
    "if torch.cuda.is_available():\n",
    "    device = \"cuda\"\n",
    "else:\n",
    "    device = \"cpu\"\n",
    "\n",
    "print(f\"Using {device} device\")"
   ]
  },
  {
   "cell_type": "code",
   "execution_count": 17,
   "id": "3a9acaa3-a4fa-43e5-88f1-3307eb4152db",
   "metadata": {},
   "outputs": [],
   "source": [
    "transform = transforms.Compose([\n",
    "    transforms.Grayscale(num_output_channels=1),   # Convert to grayscale if necessary\n",
    "    transforms.Resize((28, 28)),\n",
    "    transforms.ToTensor(),\n",
    "    transforms.Normalize((0.5,), (0.5,))           # Normalize to mean=0.5, std=0.5 for grayscale\n",
    "])\n",
    "\n",
    "train_dataset = datasets.ImageFolder(root='images_dataset_train', transform=transform)\n",
    "test_dataset = datasets.ImageFolder(root='images_dataset_test', transform=transform)\n",
    "\n",
    "train_loader = DataLoader(train_dataset, batch_size=200, shuffle=True)\n",
    "test_loader = DataLoader(test_dataset, batch_size=200, shuffle=False)\n"
   ]
  },
  {
   "cell_type": "code",
   "execution_count": 18,
   "id": "50c84007-594f-4b57-889b-a3dc31a5fed3",
   "metadata": {},
   "outputs": [
    {
     "name": "stdout",
     "output_type": "stream",
     "text": [
      "Classes in train dataset: ['bw7', 'ecard1', 'ecard2', 'ecard3', 'pl3', 'sm1', 'sm10', 'sm11', 'sm12', 'sm2', 'sm3', 'sm5', 'sm6', 'sm7', 'sm8', 'sm9', 'smp', 'sv1', 'sv2', 'sv4', 'sv4pt5', 'sv6', 'sv7', 'swsh1', 'swsh10', 'swsh12pt5', 'swsh2', 'swsh3', 'swsh4', 'swsh5', 'swsh8', 'swsh9', 'swshp', 'xy5', 'xy8', 'xyp']\n",
      "Number of classes detected: 36\n"
     ]
    }
   ],
   "source": [
    "print(\"Classes in train dataset:\", train_dataset.classes)\n",
    "print(\"Number of classes detected:\", len(train_dataset.classes))"
   ]
  },
  {
   "cell_type": "code",
   "execution_count": 19,
   "id": "ebf84304-b2a6-4197-8273-c4da4ed9d8b9",
   "metadata": {},
   "outputs": [
    {
     "name": "stdout",
     "output_type": "stream",
     "text": [
      "CNN(\n",
      "  (convolutional_layers): Sequential(\n",
      "    (0): Conv2d(1, 32, kernel_size=(5, 5), stride=(1, 1), padding=(2, 2))\n",
      "    (1): ReLU(inplace=True)\n",
      "    (2): MaxPool2d(kernel_size=2, stride=2, padding=0, dilation=1, ceil_mode=False)\n",
      "    (3): Conv2d(32, 64, kernel_size=(5, 5), stride=(1, 1), padding=(2, 2))\n",
      "    (4): ReLU(inplace=True)\n",
      "    (5): MaxPool2d(kernel_size=2, stride=2, padding=0, dilation=1, ceil_mode=False)\n",
      "  )\n",
      "  (fully_connected_layer1): Sequential(\n",
      "    (0): Linear(in_features=3136, out_features=1024, bias=True)\n",
      "    (1): ReLU(inplace=True)\n",
      "  )\n",
      "  (dropout): Dropout(p=0.4, inplace=False)\n",
      "  (fully_connected_layer2): Linear(in_features=1024, out_features=36, bias=True)\n",
      ")\n"
     ]
    }
   ],
   "source": [
    "class CNN(nn.Module):\n",
    "    def __init__(self,drop):\n",
    "        super(CNN, self).__init__()\n",
    "        self.drop = drop\n",
    "\n",
    "        self.convolutional_layers = nn.Sequential(\n",
    "            nn.Conv2d(1, 32, kernel_size=5, stride=1, padding=2),                # Convolutional layer with 32 kernels, window size 5, padding size 2, stride 1\n",
    "            nn.ReLU(inplace=True),                                               # In place ReLU activation layer\n",
    "            nn.MaxPool2d(kernel_size=2, stride=2),                               # Max pooling layer with window size 2, stride 2\n",
    "            nn.Conv2d(32, 64, kernel_size=5, stride=1, padding=2),               # Convolutional layer with 64 kernels, window size 5, padding size 2, stride 1\n",
    "            nn.ReLU(inplace=True),                                               # Second In-place ReLU activation\n",
    "            nn.MaxPool2d(kernel_size=2, stride=2),                               # Max pooling layer with window size 2, stride 2\n",
    "        )\n",
    "\n",
    "                                                                                # Since torch.Size([1, 28, 28])\n",
    "                                                                                # H = 28, W = 28 and C = 1 (Height, Width, number of channels)\n",
    "                                                                                # After the first pooling step, H=28/2 = 14, W=28/2= 14 and C=1\n",
    "                                                                                # After the second pooling step, H=14/2=7, W=14/2=7 and C=1\n",
    "                                                                                # Depth = 64 because size of the kernel in the second conv layer is 64\n",
    "                                                                                # Dimensions of features 7 * 7 * 64\n",
    "        self.fully_connected_layer1 = nn.Sequential(\n",
    "            nn.Linear(3136, 1024),                                               # Fully connected layer with 1024 output channels\n",
    "            nn.ReLU(inplace= True)                                                # In place ReLU activation layer\n",
    "\n",
    "       )\n",
    "        self.dropout = nn.Dropout(p = 0.4)                                        # Dropout layer with drop rate 0.4\n",
    "        self.fully_connected_layer2 = nn.Linear(1024, 36)                         # Fully connected layer with 10 output channels and 1024 inputs from prev pooling step\n",
    "\n",
    "    def forward(self, x):\n",
    "        input = self.convolutional_layers(x)                                     # apply conv layers\n",
    "        input = input.reshape(-1, 3136)                                          # reshape\n",
    "        input =  self.fully_connected_layer1(input)                              # apply fc layeer 1\n",
    "        if(self.drop == True):                                                   # is dropout needed ?\n",
    "          #print(\"applied Dropout\")\n",
    "          input = self.dropout(input)\n",
    "\n",
    "        input = self.fully_connected_layer2(input)                                 # apply fc 2\n",
    "        return input\n",
    "\n",
    "# Print net\n",
    "net = CNN(drop=True).to(device)\n",
    "print(net)"
   ]
  },
  {
   "cell_type": "code",
   "execution_count": 20,
   "id": "f16bb231-e11b-4519-8ced-84d3d4967eec",
   "metadata": {},
   "outputs": [],
   "source": [
    "import torch.optim as optim\n",
    "from tqdm import tqdm  # For progress bar\n",
    "\n",
    "# Use the CNN class and training function you've defined\n",
    "\n",
    "# Initialize the network\n",
    "device = torch.device(\"cuda\" if torch.cuda.is_available() else \"cpu\")\n",
    "net = CNN(drop=True).to(device)\n",
    "\n",
    "# Define the training function\n",
    "def train(train_loader, net, opt='adam', epochs=10, learning_rate=1e-3):\n",
    "    criterion = nn.CrossEntropyLoss()\n",
    "    losslist = []\n",
    "    acclist = []\n",
    "\n",
    "    # Select optimizer\n",
    "    if opt == 'adam':\n",
    "        optimizer = optim.Adam(net.parameters(), lr=learning_rate)\n",
    "    else:\n",
    "        optimizer = optim.SGD(net.parameters(), lr=learning_rate, momentum=0.99)\n",
    "\n",
    "    # Set model to training mode\n",
    "    net.train()\n",
    "    for epoch in range(epochs):\n",
    "        epoch_loss = 0\n",
    "        epoch_accuracy = 0\n",
    "        for X, y in tqdm(train_loader):\n",
    "            # Send data to device\n",
    "            X, y = X.to(device), y.to(device)\n",
    "\n",
    "            # Zero gradients, perform forward pass, compute loss, backward pass, and optimize\n",
    "            optimizer.zero_grad()\n",
    "            outputs = net(X)\n",
    "            loss = criterion(outputs, y)\n",
    "            loss.backward()\n",
    "            optimizer.step()\n",
    "\n",
    "            # Calculate metrics\n",
    "            epoch_loss += loss.item()\n",
    "            predictions = outputs.argmax(dim=1)\n",
    "            correct = (predictions == y).sum().item()\n",
    "            epoch_accuracy += correct / y.size(0)\n",
    "\n",
    "        # Average loss and accuracy per epoch\n",
    "        losslist.append(epoch_loss / len(train_loader))\n",
    "        acclist.append(epoch_accuracy / len(train_loader))\n",
    "        print(f\"Epoch {epoch+1}/{epochs}, Loss: {losslist[-1]:.4f}, Accuracy: {acclist[-1]:.4f}\")\n",
    "\n",
    "    return losslist, acclist\n"
   ]
  },
  {
   "cell_type": "code",
   "execution_count": 21,
   "id": "9134e270-a5e1-4ed4-bc90-617fd10f440b",
   "metadata": {},
   "outputs": [
    {
     "name": "stderr",
     "output_type": "stream",
     "text": [
      "100%|███████████████████████████████████████████████████████████████████████████████████████████████████████████████████████████████████| 30/30 [02:10<00:00,  4.35s/it]\n"
     ]
    },
    {
     "name": "stdout",
     "output_type": "stream",
     "text": [
      "Epoch 1/10, Loss: 3.5084, Accuracy: 0.0664\n"
     ]
    },
    {
     "name": "stderr",
     "output_type": "stream",
     "text": [
      "100%|███████████████████████████████████████████████████████████████████████████████████████████████████████████████████████████████████| 30/30 [02:13<00:00,  4.46s/it]\n"
     ]
    },
    {
     "name": "stdout",
     "output_type": "stream",
     "text": [
      "Epoch 2/10, Loss: 3.0494, Accuracy: 0.1381\n"
     ]
    },
    {
     "name": "stderr",
     "output_type": "stream",
     "text": [
      "100%|███████████████████████████████████████████████████████████████████████████████████████████████████████████████████████████████████| 30/30 [02:20<00:00,  4.68s/it]\n"
     ]
    },
    {
     "name": "stdout",
     "output_type": "stream",
     "text": [
      "Epoch 3/10, Loss: 2.5517, Accuracy: 0.1872\n"
     ]
    },
    {
     "name": "stderr",
     "output_type": "stream",
     "text": [
      "100%|███████████████████████████████████████████████████████████████████████████████████████████████████████████████████████████████████| 30/30 [02:19<00:00,  4.65s/it]\n"
     ]
    },
    {
     "name": "stdout",
     "output_type": "stream",
     "text": [
      "Epoch 4/10, Loss: 2.2944, Accuracy: 0.2294\n"
     ]
    },
    {
     "name": "stderr",
     "output_type": "stream",
     "text": [
      "100%|███████████████████████████████████████████████████████████████████████████████████████████████████████████████████████████████████| 30/30 [02:19<00:00,  4.64s/it]\n"
     ]
    },
    {
     "name": "stdout",
     "output_type": "stream",
     "text": [
      "Epoch 5/10, Loss: 2.1321, Accuracy: 0.2572\n"
     ]
    },
    {
     "name": "stderr",
     "output_type": "stream",
     "text": [
      "100%|███████████████████████████████████████████████████████████████████████████████████████████████████████████████████████████████████| 30/30 [02:21<00:00,  4.72s/it]\n"
     ]
    },
    {
     "name": "stdout",
     "output_type": "stream",
     "text": [
      "Epoch 6/10, Loss: 1.9984, Accuracy: 0.2884\n"
     ]
    },
    {
     "name": "stderr",
     "output_type": "stream",
     "text": [
      "100%|███████████████████████████████████████████████████████████████████████████████████████████████████████████████████████████████████| 30/30 [02:20<00:00,  4.69s/it]\n"
     ]
    },
    {
     "name": "stdout",
     "output_type": "stream",
     "text": [
      "Epoch 7/10, Loss: 1.9174, Accuracy: 0.3153\n"
     ]
    },
    {
     "name": "stderr",
     "output_type": "stream",
     "text": [
      "100%|███████████████████████████████████████████████████████████████████████████████████████████████████████████████████████████████████| 30/30 [03:25<00:00,  6.85s/it]\n"
     ]
    },
    {
     "name": "stdout",
     "output_type": "stream",
     "text": [
      "Epoch 8/10, Loss: 1.8389, Accuracy: 0.3421\n"
     ]
    },
    {
     "name": "stderr",
     "output_type": "stream",
     "text": [
      "100%|███████████████████████████████████████████████████████████████████████████████████████████████████████████████████████████████████| 30/30 [02:37<00:00,  5.24s/it]\n"
     ]
    },
    {
     "name": "stdout",
     "output_type": "stream",
     "text": [
      "Epoch 9/10, Loss: 1.7697, Accuracy: 0.3673\n"
     ]
    },
    {
     "name": "stderr",
     "output_type": "stream",
     "text": [
      "100%|███████████████████████████████████████████████████████████████████████████████████████████████████████████████████████████████████| 30/30 [01:52<00:00,  3.74s/it]"
     ]
    },
    {
     "name": "stdout",
     "output_type": "stream",
     "text": [
      "Epoch 10/10, Loss: 1.6946, Accuracy: 0.3931\n"
     ]
    },
    {
     "name": "stderr",
     "output_type": "stream",
     "text": [
      "\n"
     ]
    }
   ],
   "source": [
    "# Set training parameters\n",
    "epochs = 10\n",
    "learning_rate = 1e-3\n",
    "opt = 'adam'\n",
    "\n",
    "# Train the model\n",
    "losslist, acclist = train(train_loader, net, opt=opt, epochs=epochs, learning_rate=learning_rate)\n",
    "\n"
   ]
  },
  {
   "cell_type": "code",
   "execution_count": 22,
   "id": "60327ce7-aba7-43ec-8b19-9ee1c7aeb462",
   "metadata": {},
   "outputs": [
    {
     "data": {
      "image/png": "[encoded data removed]",
      "text/plain": [
       "<Figure size 640x480 with 1 Axes>"
      ]
     },
     "metadata": {},
     "output_type": "display_data"
    }
   ],
   "source": [
    "ax1=range(len(losslist))\n",
    "plt.plot(ax1, losslist, ax1, acclist)\n",
    "plt.legend(['loss', 'accuracy'])\n",
    "plt.show()"
   ]
  },
  {
   "cell_type": "code",
   "execution_count": null,
   "id": "3b807680-beae-4f0c-a031-16e5c401f8f7",
   "metadata": {},
   "outputs": [],
   "source": []
  }
 ],
 "metadata": {
  "kernelspec": {
   "display_name": "Python 3 (ipykernel)",
   "language": "python",
   "name": "python3"
  },
  "language_info": {
   "codemirror_mode": {
    "name": "ipython",
    "version": 3
   },
   "file_extension": ".py",
   "mimetype": "text/x-python",
   "name": "python",
   "nbconvert_exporter": "python",
   "pygments_lexer": "ipython3",
   "version": "3.12.3"
  }
 },
 "nbformat": 4,
 "nbformat_minor": 5
}
